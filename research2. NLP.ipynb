{
 "cells": [
  {
   "cell_type": "code",
   "execution_count": 312,
   "id": "b1659933",
   "metadata": {},
   "outputs": [],
   "source": [
    "import numpy as np\n",
    "import pandas as pd\n",
    "import seaborn as sns\n",
    "import matplotlib.pyplot as plt\n",
    "\n",
    "from sklearn import utils\n",
    "from sklearn.model_selection import train_test_split\n",
    "from sklearn.metrics import accuracy_score, precision_recall_fscore_support\n",
    "\n",
    "from imblearn.over_sampling import RandomOverSampler\n",
    "\n",
    "import spacy\n",
    "from spacy.tokens import DocBin\n",
    "from spacy.training import Example\n",
    "\n",
    "from tqdm.notebook import tqdm\n",
    "\n",
    "import warnings\n",
    "warnings.filterwarnings('ignore')"
   ]
  },
  {
   "cell_type": "code",
   "execution_count": 355,
   "id": "4f297fd1",
   "metadata": {},
   "outputs": [],
   "source": [
    "RANDOM_STATE = 7"
   ]
  },
  {
   "cell_type": "markdown",
   "id": "21181376",
   "metadata": {},
   "source": [
    "### Clear data"
   ]
  },
  {
   "cell_type": "code",
   "execution_count": 148,
   "id": "dc5fbe0a",
   "metadata": {},
   "outputs": [
    {
     "name": "stdout",
     "output_type": "stream",
     "text": [
      "<class 'pandas.core.frame.DataFrame'>\n",
      "Int64Index: 16652 entries, 0 to 16720\n",
      "Data columns (total 4 columns):\n",
      " #   Column   Non-Null Count  Dtype \n",
      "---  ------   --------------  ----- \n",
      " 0   Text     16652 non-null  object\n",
      " 1   Label    16652 non-null  object\n",
      " 2   ID       16652 non-null  object\n",
      " 3   Offsets  16652 non-null  object\n",
      "dtypes: object(4)\n",
      "memory usage: 650.5+ KB\n"
     ]
    }
   ],
   "source": [
    "# Load and save data\n",
    "df = pd.read_csv(\"data/Aboutlabeled.csv\")\n",
    "df = df.drop(['Unnamed: 4', 'Unnamed: 5', 'Unnamed: 6'],  axis=1)\n",
    "\n",
    "# index of incorrect labels\n",
    "incorrect_labels_index = df[(df['Label'] != 'About') & (df['Label'] != 'None')].index\n",
    "# delete empty and incorrect rows\n",
    "df.drop(index=incorrect_labels_index, axis=0, inplace=True)\n",
    "df.dropna(axis=0, how='any', inplace=True)\n",
    "\n",
    "df.info()"
   ]
  },
  {
   "cell_type": "code",
   "execution_count": 149,
   "id": "0a3672aa",
   "metadata": {},
   "outputs": [
    {
     "data": {
      "text/html": [
       "<div>\n",
       "<style scoped>\n",
       "    .dataframe tbody tr th:only-of-type {\n",
       "        vertical-align: middle;\n",
       "    }\n",
       "\n",
       "    .dataframe tbody tr th {\n",
       "        vertical-align: top;\n",
       "    }\n",
       "\n",
       "    .dataframe thead th {\n",
       "        text-align: right;\n",
       "    }\n",
       "</style>\n",
       "<table border=\"1\" class=\"dataframe\">\n",
       "  <thead>\n",
       "    <tr style=\"text-align: right;\">\n",
       "      <th></th>\n",
       "      <th>Text</th>\n",
       "      <th>Label</th>\n",
       "      <th>ID</th>\n",
       "      <th>Offsets</th>\n",
       "    </tr>\n",
       "  </thead>\n",
       "  <tbody>\n",
       "    <tr>\n",
       "      <th>0</th>\n",
       "      <td>Funding Circle was created with a big idea:</td>\n",
       "      <td>None</td>\n",
       "      <td>article_00000.pre.xmi:001</td>\n",
       "      <td>[]</td>\n",
       "    </tr>\n",
       "    <tr>\n",
       "      <th>1</th>\n",
       "      <td>To revolutionize the outdated banking system a...</td>\n",
       "      <td>About</td>\n",
       "      <td>article_00000.pre.xmi:002</td>\n",
       "      <td>[{u'text': u'revolutionize the outdated bankin...</td>\n",
       "    </tr>\n",
       "    <tr>\n",
       "      <th>2</th>\n",
       "      <td>Thousands of loans later, we've helped busines...</td>\n",
       "      <td>About</td>\n",
       "      <td>article_00000.pre.xmi:003</td>\n",
       "      <td>[{u'text': u'we', u'endOffset': 28, u'beginOff...</td>\n",
       "    </tr>\n",
       "    <tr>\n",
       "      <th>3</th>\n",
       "      <td>We've taken this progress global.</td>\n",
       "      <td>About</td>\n",
       "      <td>article_00000.pre.xmi:004</td>\n",
       "      <td>[{u'text': u'We', u'endOffset': 2, u'beginOffs...</td>\n",
       "    </tr>\n",
       "    <tr>\n",
       "      <th>4</th>\n",
       "      <td>Funding Circle is the world's leading marketpl...</td>\n",
       "      <td>About</td>\n",
       "      <td>article_00000.pre.xmi:005</td>\n",
       "      <td>[{u'text': u'Funding Circle', u'endOffset': 14...</td>\n",
       "    </tr>\n",
       "  </tbody>\n",
       "</table>\n",
       "</div>"
      ],
      "text/plain": [
       "                                                Text  Label  \\\n",
       "0        Funding Circle was created with a big idea:   None   \n",
       "1  To revolutionize the outdated banking system a...  About   \n",
       "2  Thousands of loans later, we've helped busines...  About   \n",
       "3                  We've taken this progress global.  About   \n",
       "4  Funding Circle is the world's leading marketpl...  About   \n",
       "\n",
       "                          ID  \\\n",
       "0  article_00000.pre.xmi:001   \n",
       "1  article_00000.pre.xmi:002   \n",
       "2  article_00000.pre.xmi:003   \n",
       "3  article_00000.pre.xmi:004   \n",
       "4  article_00000.pre.xmi:005   \n",
       "\n",
       "                                             Offsets  \n",
       "0                                                 []  \n",
       "1  [{u'text': u'revolutionize the outdated bankin...  \n",
       "2  [{u'text': u'we', u'endOffset': 28, u'beginOff...  \n",
       "3  [{u'text': u'We', u'endOffset': 2, u'beginOffs...  \n",
       "4  [{u'text': u'Funding Circle', u'endOffset': 14...  "
      ]
     },
     "execution_count": 149,
     "metadata": {},
     "output_type": "execute_result"
    }
   ],
   "source": [
    "df.head()"
   ]
  },
  {
   "cell_type": "markdown",
   "id": "1a2d0c07",
   "metadata": {},
   "source": [
    "### Prepare data"
   ]
  },
  {
   "cell_type": "code",
   "execution_count": 500,
   "id": "42e80549",
   "metadata": {},
   "outputs": [],
   "source": [
    "# Prepare X\n",
    "X = df['Text']\n",
    "# Prepare labels\n",
    "y = df['Label'].map({'None': 0, 'About': 1})\n"
   ]
  },
  {
   "cell_type": "code",
   "execution_count": 488,
   "id": "82839368",
   "metadata": {},
   "outputs": [
    {
     "data": {
      "text/plain": [
       "'Funding Circle was created with a big idea:'"
      ]
     },
     "execution_count": 488,
     "metadata": {},
     "output_type": "execute_result"
    }
   ],
   "source": [
    "X[0]"
   ]
  },
  {
   "cell_type": "code",
   "execution_count": 502,
   "id": "1c8cbac4",
   "metadata": {},
   "outputs": [
    {
     "data": {
      "application/vnd.jupyter.widget-view+json": {
       "model_id": "a8758d53421a496c9b78361f7af9c24f",
       "version_major": 2,
       "version_minor": 0
      },
      "text/plain": [
       "0it [00:00, ?it/s]"
      ]
     },
     "metadata": {},
     "output_type": "display_data"
    },
    {
     "name": "stdout",
     "output_type": "stream",
     "text": [
      "CPU times: user 25.9 s, sys: 4.52 s, total: 30.5 s\n",
      "Wall time: 30.7 s\n"
     ]
    }
   ],
   "source": [
    "%%time\n",
    "\n",
    "# Preprocessing data\n",
    "nlp = spacy.load('en_core_web_sm')\n",
    "\n",
    "# Remove spaces\n",
    "X = [string.strip() for string in X]\n",
    "\n",
    "# Preprocessing text\n",
    "docs = nlp.pipe(X)\n",
    "X = list()\n",
    "\n",
    "for doc in tqdm(docs):\n",
    "    # Delete stop words\n",
    "    words = [token.text for token in doc if not token.is_stop]\n",
    "#     words = [token.lemma_ for token in words]\n",
    "    X.append(' '.join(words))"
   ]
  },
  {
   "cell_type": "code",
   "execution_count": 463,
   "id": "cd97a03d",
   "metadata": {},
   "outputs": [
    {
     "data": {
      "text/plain": [
       "[]"
      ]
     },
     "execution_count": 463,
     "metadata": {},
     "output_type": "execute_result"
    }
   ],
   "source": [
    "list(docs)"
   ]
  },
  {
   "cell_type": "markdown",
   "id": "7179049a",
   "metadata": {},
   "source": [
    "### Split data and aversample train data"
   ]
  },
  {
   "cell_type": "code",
   "execution_count": 503,
   "id": "c41ea502",
   "metadata": {},
   "outputs": [],
   "source": [
    "# Split data\n",
    "X_train, X_val, y_train, y_val = train_test_split(X, \n",
    "                                                  y, \n",
    "                                                  train_size = 0.7, \n",
    "                                                  shuffle=True,\n",
    "                                                  random_state=RANDOM_STATE)\n",
    "# Split X_val, y_val into validation and test data\n",
    "X_val, X_test, y_val, y_test = train_test_split(X_val, \n",
    "                                                y_val, \n",
    "                                                train_size = 0.7, \n",
    "                                                shuffle=True,\n",
    "                                                random_state=RANDOM_STATE)"
   ]
  },
  {
   "cell_type": "code",
   "execution_count": 504,
   "id": "d99fd33e",
   "metadata": {},
   "outputs": [
    {
     "data": {
      "text/plain": [
       "0    10367\n",
       "1     1289\n",
       "Name: Label, dtype: int64"
      ]
     },
     "execution_count": 504,
     "metadata": {},
     "output_type": "execute_result"
    }
   ],
   "source": [
    "pd.Series(y_train).value_counts()"
   ]
  },
  {
   "cell_type": "code",
   "execution_count": 505,
   "id": "82e7d699",
   "metadata": {},
   "outputs": [
    {
     "data": {
      "text/plain": [
       "1    10367\n",
       "0    10367\n",
       "Name: Label, dtype: int64"
      ]
     },
     "execution_count": 505,
     "metadata": {},
     "output_type": "execute_result"
    }
   ],
   "source": [
    "# Create OverSampler and resample X, y train\n",
    "X_train, y_train = oversample.fit_resample(pd.DataFrame(X_train), y = y_train)\n",
    "X_train = [i[0] for i in X_train.values.tolist()]\n",
    "pd.Series(y_train).value_counts()"
   ]
  },
  {
   "cell_type": "markdown",
   "id": "64bc79e5",
   "metadata": {},
   "source": [
    "### Functions for scores"
   ]
  },
  {
   "cell_type": "code",
   "execution_count": 354,
   "id": "ae43f524",
   "metadata": {},
   "outputs": [],
   "source": [
    "# Function for print main metrics for prediction\n",
    "def print_scores(y_val, y_pred, threshold=0.5):\n",
    "    \n",
    "    # Rounding the prediction with the select threshold\n",
    "    th_y_pred = np.where(np.array(y_pred) > threshold, 1, 0)\n",
    "    \n",
    "    # Print scores\n",
    "    acc_score = accuracy_score(y_val, th_y_pred)\n",
    "    pr_score, re_score, f_score, _ = precision_recall_fscore_support(y_val, \n",
    "                                                                     th_y_pred, \n",
    "                                                                     average='binary')\n",
    "    print(f\"Accuracy score: {round(acc_score, 3)}\")\n",
    "    print(f\"Precision score: {round(pr_score, 3)}\")\n",
    "    print(f\"Recall score: {round(re_score, 3)}\")\n",
    "    print(f\"F-score: {round(f_score, 3)}\")\n",
    "    \n",
    "    # Calculate F1-Score for the thresholds\n",
    "    f_scores = list()\n",
    "    thresholds = np.linspace(0, 1, 100)\n",
    "    \n",
    "    for step in thresholds:\n",
    "        th_y_pred = np.where(np.array(y_pred) > step, 1, 0)\n",
    "        _, _, f_score, _ = precision_recall_fscore_support(y_val,\n",
    "                                                           th_y_pred,\n",
    "                                                           average='binary')\n",
    "        f_scores.append(f_score)\n",
    "    \n",
    "    # Drawing F1-Score for the thresholds\n",
    "    ax = sns.lineplot(x=thresholds, y=f_scores)\n",
    "    ax.set_xlabel('Threshold')\n",
    "    ax.set_ylabel('F1-Score')\n",
    "    \n",
    "    # Print the best F1-Score and the appropriate threshold\n",
    "    print(f\"\\nMax F1-Score: {round(np.max(f_scores), 3)} (threshold: {round(thresholds[np.argmax(f_scores)], 3)})\\n\")\n",
    "\n",
    "    \n",
    "# Function for drawing a history graphs from NNs\n",
    "def plot_history_nn(history, combined_keys=None, calculate_f1_score=False):\n",
    "    \"\"\"\n",
    "    Takes a history object from NN and plots all metrics.\n",
    "    \n",
    "    Parameters\n",
    "    ----------\n",
    "    history : history.history object what NN.fit returns\n",
    "    combined_keys : array_like\n",
    "        If neen to combine several metrics in one window.\n",
    "        Metrics contained in the same list like:\n",
    "        combined_keys=[[metric1, metric2, metric3], [metric4]] \n",
    "        will be drawn in one window (metric1-3)\n",
    "    calculate_f1_score : Boolean\n",
    "        Will calculate the F1-Score for each epoch.\n",
    "        For \"combined_keys\" use the \"val_f1_score\" key\n",
    "    \"\"\"\n",
    "    # Calculate F1-Score for all epochs if calculate_f1_score == True\n",
    "    if calculate_f1_score:\n",
    "        precision = np.array(history['val_precision'])\n",
    "        recall = np.array(history['val_recall'])\n",
    "        history['val_f1_score'] = 2 * ((precision * recall) / (precision + recall))\n",
    "        # Replace np.nan to zero\n",
    "        history['val_f1_score'] = np.nan_to_num(history['val_f1_score'])\n",
    "    \n",
    "    # Check if uses without combined_keys\n",
    "    if not combined_keys:\n",
    "        keys = list(history.keys())\n",
    "        # Raise error if number of metrics not a pair\n",
    "        if len(keys) % 2 != 0:\n",
    "            raise ValueError(\"History object doesn't have a pair number of keys\")\n",
    "        x = list(range(len(history[keys[0]])))\n",
    "    else:\n",
    "        keys = list(combined_keys)\n",
    "        # Check for each element of combined_keys that it is a list\n",
    "        for key in keys:\n",
    "            if type(key) != list:\n",
    "                raise ValueError(f\"Element:'{key}' is not a list\")\n",
    "        x = list(range(len(history[keys[0][0]])))\n",
    "    \n",
    "    # Prepare windows\n",
    "    rows  = int(np.ceil(len(keys) / 2))\n",
    "    _, axs = plt.subplots(rows, 2, figsize=(15, 5 * rows))\n",
    "    \n",
    "    # Draw metrics\n",
    "    for i, key in enumerate(keys):\n",
    "        indx=np.unravel_index(i, shape=axs.shape)\n",
    "        \n",
    "        if combined_keys:\n",
    "            for inter_key in key:\n",
    "                sns.lineplot(x=x, y=history[inter_key], ax=axs[indx], label=inter_key)\n",
    "        else:\n",
    "            sns.lineplot(x=x, y=history[key], ax=axs[indx], label=key)\n",
    "        axs[indx].set_xlabel(\"Epoch\")\n",
    "    \n",
    "    # Print the best results for each metric\n",
    "    for key in history.keys():\n",
    "        # Save min/max results\n",
    "        min_res = str(round(np.min(history[key]), 3))\n",
    "        max_res = str(round(np.max(history[key]), 3))\n",
    "        # Find the appropriate epoch for min/max results\n",
    "        epoch_min_res = np.argmin(history[key]) + 1\n",
    "        epoch_max_res = np.argmax(history[key]) + 1\n",
    "        \n",
    "        indent = ' ' * (15 - len(key))\n",
    "        \n",
    "        print(f\"{key}: {indent} min-{min_res}({epoch_min_res} epoch), \\t max-{max_res}({epoch_max_res} epoch)\")\n",
    "\n",
    "\n",
    "\n",
    "    \n",
    "    "
   ]
  },
  {
   "cell_type": "markdown",
   "id": "4d546701",
   "metadata": {},
   "source": [
    "# Version 1: Training the Spacy model with examples and nlp.update"
   ]
  },
  {
   "cell_type": "code",
   "execution_count": 244,
   "id": "0fe255fc",
   "metadata": {},
   "outputs": [],
   "source": [
    "# Return the label prediction for text list\n",
    "def nlp_cats_predict(text_list, label, nlp):\n",
    "\n",
    "    y_pred = []\n",
    "\n",
    "    for doc in nlp.pipe(text_list):\n",
    "        y_pred.append(doc.cats[label])\n",
    "    \n",
    "    return y_pred"
   ]
  },
  {
   "cell_type": "code",
   "execution_count": 292,
   "id": "4aee9dfb",
   "metadata": {},
   "outputs": [],
   "source": [
    "# \n",
    "def train_model(X_train, X_val, y_train, y_val, labels = ['pos', 'neg'], epochs=10, nlp=None):\n",
    "    # Create a new nlp if not given\n",
    "    if not nlp:\n",
    "        nlp = spacy.load('en_core_web_sm')\n",
    "        print('New NLP load')\n",
    "    \n",
    "    # Add textcat in pipeline\n",
    "    if 'textcat' not in nlp.pipe_names:\n",
    "#         textcat = nlp.create_pipe(\"textcat\", config={\"architecture\": \"simple_cnn\"})\n",
    "        textcat = nlp.add_pipe('textcat', last=True)\n",
    "    else:\n",
    "        textcat = nlp.get_pipe('textcat')\n",
    "    # Add labels\n",
    "    textcat.add_label(labels[0])\n",
    "    textcat.add_label(labels[1])\n",
    "    \n",
    "    # Prepare train and validation data\n",
    "    # The dictionary with the key \"cats\" requires for the Example object\n",
    "    data_train = list(zip(X_train, ({'cats': {labels[0]: i == 1, labels[1]: i == 0}} for i in y_train)))\n",
    "#     data_val = list(zip(X_val, ({'cats': {labels[0]: i == 1, labels[1]: i == 0}} for i in y_val)))\n",
    "    \n",
    "    # History dictionary with results for validation data\n",
    "    history = {'val_accuracy': list(),\n",
    "               'val_precision': list(),\n",
    "               'val_recall': list(),\n",
    "               'val_f1_score': list()}\n",
    "    \n",
    "    # Disable pipes\n",
    "    disable_pipes_list = [pipe for pipe in nlp.pipe_names if pipe != 'textcat']\n",
    "    \n",
    "    # Training\n",
    "    with nlp.disable_pipes(disable_pipes_list):\n",
    "        optimizer = nlp.begin_training()\n",
    "        batches_size = spacy.util.compounding(4.0, 256.0, 2.001)\n",
    "        \n",
    "        for epoch in range(epochs):\n",
    "            loss = {}\n",
    "            data_train = utils.shuffle(data_train)\n",
    "            batches = spacy.util.minibatch(data_train, size=batches_size)\n",
    "            print(f\"Epoch: {epoch + 1}/{epochs} {'-' * 70}\")\n",
    "            \n",
    "            for batch in tqdm(batches):\n",
    "                examples = [Example.from_dict(nlp(i[0]), i[1]) for i in batch]\n",
    "                nlp.update(examples, drop=0.2, sgd=optimizer, losses=loss)\n",
    "            \n",
    "            \n",
    "            # Saves scores validation data\n",
    "            y_pred = nlp_cats_predict(X_val, labels[0], nlp)\n",
    "            \n",
    "            ac_score = accuracy_score(y_val, np.round(y_pred))\n",
    "            pr_score, re_score, f_score, _ = precision_recall_fscore_support(y_val, \n",
    "                                                                             np.round(y_pred), \n",
    "                                                                             average='binary')\n",
    "            history['val_accuracy'].append(ac_score)\n",
    "            history['val_precision'].append(pr_score)\n",
    "            history['val_recall'].append(re_score)\n",
    "            history['val_f1_score'].append(f_score)\n",
    "            \n",
    "            print(f\"Val_accuracy: {round(ac_score, 3)}, F1-Score: {round(f_score, 3)}\")\n",
    "            \n",
    "\n",
    "    return nlp, history\n",
    "\n"
   ]
  },
  {
   "cell_type": "code",
   "execution_count": 506,
   "id": "3711bbe3",
   "metadata": {
    "scrolled": true
   },
   "outputs": [
    {
     "name": "stdout",
     "output_type": "stream",
     "text": [
      "Epoch: 1/10 ----------------------------------------------------------------------\n"
     ]
    },
    {
     "data": {
      "application/vnd.jupyter.widget-view+json": {
       "model_id": "45a8e37e291141aaa724688105640acb",
       "version_major": 2,
       "version_minor": 0
      },
      "text/plain": [
       "0it [00:00, ?it/s]"
      ]
     },
     "metadata": {},
     "output_type": "display_data"
    },
    {
     "name": "stdout",
     "output_type": "stream",
     "text": [
      "Val_accuracy: 0.812, F1-Score: 0.483\n",
      "Epoch: 2/10 ----------------------------------------------------------------------\n"
     ]
    },
    {
     "data": {
      "application/vnd.jupyter.widget-view+json": {
       "model_id": "53198c6adaf84e6a953b58f03af344a9",
       "version_major": 2,
       "version_minor": 0
      },
      "text/plain": [
       "0it [00:00, ?it/s]"
      ]
     },
     "metadata": {},
     "output_type": "display_data"
    },
    {
     "name": "stdout",
     "output_type": "stream",
     "text": [
      "Val_accuracy: 0.799, F1-Score: 0.475\n",
      "Epoch: 3/10 ----------------------------------------------------------------------\n"
     ]
    },
    {
     "data": {
      "application/vnd.jupyter.widget-view+json": {
       "model_id": "ffbef91c841a4120b1a4270dc14432ca",
       "version_major": 2,
       "version_minor": 0
      },
      "text/plain": [
       "0it [00:00, ?it/s]"
      ]
     },
     "metadata": {},
     "output_type": "display_data"
    },
    {
     "name": "stdout",
     "output_type": "stream",
     "text": [
      "Val_accuracy: 0.874, F1-Score: 0.536\n",
      "Epoch: 4/10 ----------------------------------------------------------------------\n"
     ]
    },
    {
     "data": {
      "application/vnd.jupyter.widget-view+json": {
       "model_id": "bb742cb4cf2747f1b1405c31c7651aa5",
       "version_major": 2,
       "version_minor": 0
      },
      "text/plain": [
       "0it [00:00, ?it/s]"
      ]
     },
     "metadata": {},
     "output_type": "display_data"
    },
    {
     "name": "stdout",
     "output_type": "stream",
     "text": [
      "Val_accuracy: 0.843, F1-Score: 0.508\n",
      "Epoch: 5/10 ----------------------------------------------------------------------\n"
     ]
    },
    {
     "data": {
      "application/vnd.jupyter.widget-view+json": {
       "model_id": "cdb180f840aa45188264f004c8720290",
       "version_major": 2,
       "version_minor": 0
      },
      "text/plain": [
       "0it [00:00, ?it/s]"
      ]
     },
     "metadata": {},
     "output_type": "display_data"
    },
    {
     "name": "stdout",
     "output_type": "stream",
     "text": [
      "Val_accuracy: 0.856, F1-Score: 0.503\n",
      "Epoch: 6/10 ----------------------------------------------------------------------\n"
     ]
    },
    {
     "data": {
      "application/vnd.jupyter.widget-view+json": {
       "model_id": "b09ea5f76e12488ba1b04382d6c21d8d",
       "version_major": 2,
       "version_minor": 0
      },
      "text/plain": [
       "0it [00:00, ?it/s]"
      ]
     },
     "metadata": {},
     "output_type": "display_data"
    },
    {
     "name": "stdout",
     "output_type": "stream",
     "text": [
      "Val_accuracy: 0.877, F1-Score: 0.516\n",
      "Epoch: 7/10 ----------------------------------------------------------------------\n"
     ]
    },
    {
     "data": {
      "application/vnd.jupyter.widget-view+json": {
       "model_id": "8050eca026134151962d941562233b86",
       "version_major": 2,
       "version_minor": 0
      },
      "text/plain": [
       "0it [00:00, ?it/s]"
      ]
     },
     "metadata": {},
     "output_type": "display_data"
    },
    {
     "name": "stdout",
     "output_type": "stream",
     "text": [
      "Val_accuracy: 0.867, F1-Score: 0.508\n",
      "Epoch: 8/10 ----------------------------------------------------------------------\n"
     ]
    },
    {
     "data": {
      "application/vnd.jupyter.widget-view+json": {
       "model_id": "439cc59990484cb7926c1aef4ba4da7c",
       "version_major": 2,
       "version_minor": 0
      },
      "text/plain": [
       "0it [00:00, ?it/s]"
      ]
     },
     "metadata": {},
     "output_type": "display_data"
    },
    {
     "name": "stdout",
     "output_type": "stream",
     "text": [
      "Val_accuracy: 0.888, F1-Score: 0.528\n",
      "Epoch: 9/10 ----------------------------------------------------------------------\n"
     ]
    },
    {
     "data": {
      "application/vnd.jupyter.widget-view+json": {
       "model_id": "2d75e23455c34967b533c338634a58aa",
       "version_major": 2,
       "version_minor": 0
      },
      "text/plain": [
       "0it [00:00, ?it/s]"
      ]
     },
     "metadata": {},
     "output_type": "display_data"
    },
    {
     "name": "stdout",
     "output_type": "stream",
     "text": [
      "Val_accuracy: 0.88, F1-Score: 0.492\n",
      "Epoch: 10/10 ----------------------------------------------------------------------\n"
     ]
    },
    {
     "data": {
      "application/vnd.jupyter.widget-view+json": {
       "model_id": "859525a8188749c8b2564b4b9cd7a121",
       "version_major": 2,
       "version_minor": 0
      },
      "text/plain": [
       "0it [00:00, ?it/s]"
      ]
     },
     "metadata": {},
     "output_type": "display_data"
    },
    {
     "name": "stdout",
     "output_type": "stream",
     "text": [
      "Val_accuracy: 0.889, F1-Score: 0.502\n",
      "CPU times: user 8min 6s, sys: 16.9 s, total: 8min 23s\n",
      "Wall time: 8min 26s\n"
     ]
    }
   ],
   "source": [
    "%%time\n",
    "\n",
    "nlp = spacy.load('en_core_web_sm')\n",
    "\n",
    "nlp, history = train_model(X_train, \n",
    "                           X_val, \n",
    "                           y_train, \n",
    "                           y_val, \n",
    "                           labels=['About', 'None'],\n",
    "                           epochs = 10,\n",
    "                           nlp=nlp)"
   ]
  },
  {
   "cell_type": "code",
   "execution_count": 507,
   "id": "2d449cc8",
   "metadata": {},
   "outputs": [
    {
     "name": "stdout",
     "output_type": "stream",
     "text": [
      "Accuracy score: 0.889\n",
      "Precision score: 0.524\n",
      "Recall score: 0.481\n",
      "F-score: 0.502\n",
      "\n",
      "Max F1-Score: 0.529 (threshold: 0.121)\n",
      "\n"
     ]
    },
    {
     "data": {
      "image/png": "[encoded data removed]",
      "text/plain": [
       "<Figure size 432x288 with 1 Axes>"
      ]
     },
     "metadata": {
      "needs_background": "light"
     },
     "output_type": "display_data"
    }
   ],
   "source": [
    "y_pred = nlp_cats_predict(X_val, 'About', nlp)\n",
    "print_scores(y_val, y_pred)"
   ]
  },
  {
   "cell_type": "code",
   "execution_count": 508,
   "id": "6c53c8f2",
   "metadata": {},
   "outputs": [
    {
     "name": "stdout",
     "output_type": "stream",
     "text": [
      "val_accuracy:     min-0.799(2 epoch), \t max-0.889(10 epoch)\n",
      "val_precision:    min-0.34(2 epoch), \t max-0.524(10 epoch)\n",
      "val_recall:       min-0.481(10 epoch), \t max-0.785(2 epoch)\n",
      "val_f1_score:     min-0.475(2 epoch), \t max-0.536(3 epoch)\n"
     ]
    },
    {
     "data": {
      "image/png": "[encoded data removed]",
      "text/plain": [
       "<Figure size 1080x360 with 2 Axes>"
      ]
     },
     "metadata": {
      "needs_background": "light"
     },
     "output_type": "display_data"
    }
   ],
   "source": [
    "plot_history_nn(history, \n",
    "                combined_keys=[['val_accuracy'], \n",
    "                               ['val_precision', 'val_recall', 'val_f1_score']])"
   ]
  },
  {
   "cell_type": "markdown",
   "id": "6bab9002",
   "metadata": {},
   "source": [
    "#### *F1-Scores again has a value about 0.56*"
   ]
  },
  {
   "cell_type": "markdown",
   "id": "c6cd3df7",
   "metadata": {},
   "source": [
    "# Version 2: Training the Spacy model through a configuration file"
   ]
  },
  {
   "cell_type": "markdown",
   "id": "aa9a8940",
   "metadata": {},
   "source": [
    "### Prepare docs"
   ]
  },
  {
   "cell_type": "code",
   "execution_count": 297,
   "id": "b43fef78",
   "metadata": {},
   "outputs": [],
   "source": [
    "# Add labels to docs\n",
    "def make_docs(X, y):\n",
    "    docs = []\n",
    "\n",
    "    for doc, label in tqdm(zip(nlp.pipe(X), y)):\n",
    "\n",
    "        doc.cats['About'] = (label == 1)\n",
    "        doc.cats['None'] = (label == 0)\n",
    "\n",
    "        docs.append(doc)\n",
    "\n",
    "    return docs"
   ]
  },
  {
   "cell_type": "code",
   "execution_count": 509,
   "id": "7b169ef9",
   "metadata": {},
   "outputs": [
    {
     "data": {
      "application/vnd.jupyter.widget-view+json": {
       "model_id": "8e697167b8324f67a50e583af6b17d08",
       "version_major": 2,
       "version_minor": 0
      },
      "text/plain": [
       "0it [00:00, ?it/s]"
      ]
     },
     "metadata": {},
     "output_type": "display_data"
    },
    {
     "data": {
      "application/vnd.jupyter.widget-view+json": {
       "model_id": "c14d90a262de4d1098e0414e9de2ecf5",
       "version_major": 2,
       "version_minor": 0
      },
      "text/plain": [
       "0it [00:00, ?it/s]"
      ]
     },
     "metadata": {},
     "output_type": "display_data"
    },
    {
     "name": "stdout",
     "output_type": "stream",
     "text": [
      "CPU times: user 41.2 s, sys: 6.57 s, total: 47.8 s\n",
      "Wall time: 48.2 s\n"
     ]
    }
   ],
   "source": [
    "%%time\n",
    "\n",
    "# Save docs to the 'data' directory\n",
    "\n",
    "docs_train = make_docs(X_train, y_train)\n",
    "docs_val = make_docs(X_val, y_val)\n",
    "\n",
    "doc_bin_train = DocBin(docs = docs_train)\n",
    "doc_bin_val = DocBin(docs = docs_val)\n",
    "\n",
    "doc_bin_train.to_disk('data/docs_train.spacy')\n",
    "doc_bin_val.to_disk('data/docs_val.spacy')"
   ]
  },
  {
   "cell_type": "markdown",
   "id": "00209bcc",
   "metadata": {},
   "source": [
    "### Load and estimate a model"
   ]
  },
  {
   "cell_type": "code",
   "execution_count": 510,
   "id": "ff6038d3",
   "metadata": {},
   "outputs": [],
   "source": [
    "# Load last model\n",
    "model_last = spacy.load('output/model-last')\n",
    "# Load best model\n",
    "model_best = spacy.load('output/model-best')"
   ]
  },
  {
   "cell_type": "code",
   "execution_count": 511,
   "id": "2269247b",
   "metadata": {},
   "outputs": [
    {
     "name": "stdout",
     "output_type": "stream",
     "text": [
      "Accuracy score: 0.885\n",
      "Precision score: 0.5\n",
      "Recall score: 0.647\n",
      "F-score: 0.564\n",
      "\n",
      "Max F1-Score: 0.571 (threshold: 0.606)\n",
      "\n"
     ]
    },
    {
     "data": {
      "image/png": "[encoded data removed]",
      "text/plain": [
       "<Figure size 432x288 with 1 Axes>"
      ]
     },
     "metadata": {
      "needs_background": "light"
     },
     "output_type": "display_data"
    }
   ],
   "source": [
    "# Estimate prediction from model_last\n",
    "y_pred = nlp_cats_predict(X_test, 'About', model_last)\n",
    "print_scores(y_test, y_pred)"
   ]
  },
  {
   "cell_type": "code",
   "execution_count": 513,
   "id": "6b966cd6",
   "metadata": {},
   "outputs": [
    {
     "name": "stdout",
     "output_type": "stream",
     "text": [
      "Accuracy score: 0.829\n",
      "Precision score: 0.383\n",
      "Recall score: 0.798\n",
      "F-score: 0.518\n",
      "\n",
      "Max F1-Score: 0.556 (threshold: 0.606)\n",
      "\n"
     ]
    },
    {
     "data": {
      "image/png": "[encoded data removed]",
      "text/plain": [
       "<Figure size 432x288 with 1 Axes>"
      ]
     },
     "metadata": {
      "needs_background": "light"
     },
     "output_type": "display_data"
    }
   ],
   "source": [
    "# Estimate prediction\n",
    "y_pred = nlp_cats_predict(X_test, 'About', model_best)\n",
    "print_scores(y_test, y_pred)"
   ]
  },
  {
   "cell_type": "markdown",
   "id": "438a7601",
   "metadata": {},
   "source": [
    "#### *Did try spacy models with a lemma, but it does wors resutls*"
   ]
  }
 ],
 "metadata": {
  "kernelspec": {
   "display_name": "Python 3",
   "language": "python",
   "name": "python3"
  },
  "language_info": {
   "codemirror_mode": {
    "name": "ipython",
    "version": 3
   },
   "file_extension": ".py",
   "mimetype": "text/x-python",
   "name": "python",
   "nbconvert_exporter": "python",
   "pygments_lexer": "ipython3",
   "version": "3.7.10"
  }
 },
 "nbformat": 4,
 "nbformat_minor": 5
}
