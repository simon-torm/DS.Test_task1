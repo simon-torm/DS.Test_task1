{
 "cells": [
  {
   "cell_type": "code",
   "execution_count": 772,
   "id": "cea94573",
   "metadata": {},
   "outputs": [],
   "source": [
    "import numpy as np\n",
    "import pandas as pd\n",
    "import seaborn as sns\n",
    "\n",
    "from sklearn.model_selection import train_test_split\n",
    "from sklearn.linear_model import LinearRegression\n",
    "from sklearn.neighbors import KNeighborsClassifier\n",
    "from sklearn.ensemble import RandomForestClassifier, StackingClassifier\n",
    "from sklearn.feature_extraction.text import CountVectorizer\n",
    "from sklearn.svm import LinearSVC\n",
    "from sklearn.linear_model import LogisticRegression\n",
    "from sklearn.preprocessing import StandardScaler\n",
    "from sklearn.pipeline import make_pipeline\n",
    "\n",
    "from xgboost import XGBClassifier\n",
    "\n",
    "from imblearn.over_sampling import RandomOverSampler, SMOTE\n",
    "from tensorflow import keras\n",
    "\n",
    "import pickle\n",
    "\n",
    "# For print and drawing results\n",
    "import result_functions\n",
    "\n",
    "import warnings\n",
    "warnings.filterwarnings('ignore')"
   ]
  },
  {
   "cell_type": "code",
   "execution_count": 2,
   "id": "3f0fa83a",
   "metadata": {},
   "outputs": [],
   "source": [
    "RANDOM_STATE = 7"
   ]
  },
  {
   "cell_type": "markdown",
   "id": "4a9b098f",
   "metadata": {},
   "source": [
    "# Preprocessing"
   ]
  },
  {
   "cell_type": "markdown",
   "id": "79690678",
   "metadata": {},
   "source": [
    "### Clear data"
   ]
  },
  {
   "cell_type": "code",
   "execution_count": 517,
   "id": "e8bf528e",
   "metadata": {},
   "outputs": [
    {
     "name": "stdout",
     "output_type": "stream",
     "text": [
      "<class 'pandas.core.frame.DataFrame'>\n",
      "Int64Index: 16652 entries, 0 to 16720\n",
      "Data columns (total 2 columns):\n",
      " #   Column  Non-Null Count  Dtype \n",
      "---  ------  --------------  ----- \n",
      " 0   Text    16652 non-null  object\n",
      " 1   Label   16652 non-null  object\n",
      "dtypes: object(2)\n",
      "memory usage: 390.3+ KB\n"
     ]
    }
   ],
   "source": [
    "# Load and save data\n",
    "df = pd.read_csv(\"data/Aboutlabeled.csv\")\n",
    "df = df.drop(['Unnamed: 4', 'Unnamed: 5', 'Unnamed: 6', 'Offsets', 'ID'],  axis=1)\n",
    "\n",
    "# index of incorrect labels\n",
    "incorrect_labels_index = df[(df['Label'] != 'About') & (df['Label'] != 'None')].index\n",
    "# delete empty and incorrect rows\n",
    "df.drop(index=incorrect_labels_index, axis=0, inplace=True)\n",
    "df.dropna(axis=0, how='any', inplace=True)\n",
    "\n",
    "df.info()"
   ]
  },
  {
   "cell_type": "code",
   "execution_count": 4,
   "id": "09491744",
   "metadata": {},
   "outputs": [
    {
     "data": {
      "text/html": [
       "<div>\n",
       "<style scoped>\n",
       "    .dataframe tbody tr th:only-of-type {\n",
       "        vertical-align: middle;\n",
       "    }\n",
       "\n",
       "    .dataframe tbody tr th {\n",
       "        vertical-align: top;\n",
       "    }\n",
       "\n",
       "    .dataframe thead th {\n",
       "        text-align: right;\n",
       "    }\n",
       "</style>\n",
       "<table border=\"1\" class=\"dataframe\">\n",
       "  <thead>\n",
       "    <tr style=\"text-align: right;\">\n",
       "      <th></th>\n",
       "      <th>Text</th>\n",
       "      <th>Label</th>\n",
       "    </tr>\n",
       "  </thead>\n",
       "  <tbody>\n",
       "    <tr>\n",
       "      <th>0</th>\n",
       "      <td>Funding Circle was created with a big idea:</td>\n",
       "      <td>None</td>\n",
       "    </tr>\n",
       "    <tr>\n",
       "      <th>1</th>\n",
       "      <td>To revolutionize the outdated banking system a...</td>\n",
       "      <td>About</td>\n",
       "    </tr>\n",
       "    <tr>\n",
       "      <th>2</th>\n",
       "      <td>Thousands of loans later, we've helped busines...</td>\n",
       "      <td>About</td>\n",
       "    </tr>\n",
       "    <tr>\n",
       "      <th>3</th>\n",
       "      <td>We've taken this progress global.</td>\n",
       "      <td>About</td>\n",
       "    </tr>\n",
       "    <tr>\n",
       "      <th>4</th>\n",
       "      <td>Funding Circle is the world's leading marketpl...</td>\n",
       "      <td>About</td>\n",
       "    </tr>\n",
       "  </tbody>\n",
       "</table>\n",
       "</div>"
      ],
      "text/plain": [
       "                                                Text  Label\n",
       "0        Funding Circle was created with a big idea:   None\n",
       "1  To revolutionize the outdated banking system a...  About\n",
       "2  Thousands of loans later, we've helped busines...  About\n",
       "3                  We've taken this progress global.  About\n",
       "4  Funding Circle is the world's leading marketpl...  About"
      ]
     },
     "execution_count": 4,
     "metadata": {},
     "output_type": "execute_result"
    }
   ],
   "source": [
    "df.head()"
   ]
  },
  {
   "cell_type": "markdown",
   "id": "bd1119c4",
   "metadata": {},
   "source": [
    "### Preprocessing"
   ]
  },
  {
   "cell_type": "code",
   "execution_count": 518,
   "id": "37aabb39",
   "metadata": {},
   "outputs": [
    {
     "data": {
      "text/html": [
       "<div>\n",
       "<style scoped>\n",
       "    .dataframe tbody tr th:only-of-type {\n",
       "        vertical-align: middle;\n",
       "    }\n",
       "\n",
       "    .dataframe tbody tr th {\n",
       "        vertical-align: top;\n",
       "    }\n",
       "\n",
       "    .dataframe thead th {\n",
       "        text-align: right;\n",
       "    }\n",
       "</style>\n",
       "<table border=\"1\" class=\"dataframe\">\n",
       "  <thead>\n",
       "    <tr style=\"text-align: right;\">\n",
       "      <th></th>\n",
       "      <th>Text</th>\n",
       "      <th>Label</th>\n",
       "      <th>num_of_words</th>\n",
       "    </tr>\n",
       "  </thead>\n",
       "  <tbody>\n",
       "    <tr>\n",
       "      <th>0</th>\n",
       "      <td>Funding Circle was created with a big idea:</td>\n",
       "      <td>None</td>\n",
       "      <td>8</td>\n",
       "    </tr>\n",
       "    <tr>\n",
       "      <th>1</th>\n",
       "      <td>To revolutionize the outdated banking system a...</td>\n",
       "      <td>About</td>\n",
       "      <td>13</td>\n",
       "    </tr>\n",
       "    <tr>\n",
       "      <th>2</th>\n",
       "      <td>Thousands of loans later, we've helped busines...</td>\n",
       "      <td>About</td>\n",
       "      <td>14</td>\n",
       "    </tr>\n",
       "    <tr>\n",
       "      <th>3</th>\n",
       "      <td>We've taken this progress global.</td>\n",
       "      <td>About</td>\n",
       "      <td>5</td>\n",
       "    </tr>\n",
       "    <tr>\n",
       "      <th>4</th>\n",
       "      <td>Funding Circle is the world's leading marketpl...</td>\n",
       "      <td>About</td>\n",
       "      <td>30</td>\n",
       "    </tr>\n",
       "  </tbody>\n",
       "</table>\n",
       "</div>"
      ],
      "text/plain": [
       "                                                Text  Label  num_of_words\n",
       "0        Funding Circle was created with a big idea:   None             8\n",
       "1  To revolutionize the outdated banking system a...  About            13\n",
       "2  Thousands of loans later, we've helped busines...  About            14\n",
       "3                  We've taken this progress global.  About             5\n",
       "4  Funding Circle is the world's leading marketpl...  About            30"
      ]
     },
     "execution_count": 518,
     "metadata": {},
     "output_type": "execute_result"
    }
   ],
   "source": [
    "# Counts the number of words\n",
    "df['num_of_words'] = df['Text'].apply(lambda text: len(text.split()))\n",
    "df.head()"
   ]
  },
  {
   "cell_type": "code",
   "execution_count": 519,
   "id": "3e5c49b2",
   "metadata": {},
   "outputs": [
    {
     "data": {
      "text/html": [
       "<div>\n",
       "<style scoped>\n",
       "    .dataframe tbody tr th:only-of-type {\n",
       "        vertical-align: middle;\n",
       "    }\n",
       "\n",
       "    .dataframe tbody tr th {\n",
       "        vertical-align: top;\n",
       "    }\n",
       "\n",
       "    .dataframe thead th {\n",
       "        text-align: right;\n",
       "    }\n",
       "</style>\n",
       "<table border=\"1\" class=\"dataframe\">\n",
       "  <thead>\n",
       "    <tr style=\"text-align: right;\">\n",
       "      <th></th>\n",
       "      <th>count</th>\n",
       "      <th>mean</th>\n",
       "      <th>std</th>\n",
       "      <th>min</th>\n",
       "      <th>25%</th>\n",
       "      <th>50%</th>\n",
       "      <th>75%</th>\n",
       "      <th>max</th>\n",
       "    </tr>\n",
       "    <tr>\n",
       "      <th>Label</th>\n",
       "      <th></th>\n",
       "      <th></th>\n",
       "      <th></th>\n",
       "      <th></th>\n",
       "      <th></th>\n",
       "      <th></th>\n",
       "      <th></th>\n",
       "      <th></th>\n",
       "    </tr>\n",
       "  </thead>\n",
       "  <tbody>\n",
       "    <tr>\n",
       "      <th>About</th>\n",
       "      <td>1867.0</td>\n",
       "      <td>23.128013</td>\n",
       "      <td>9.419610</td>\n",
       "      <td>4.0</td>\n",
       "      <td>16.0</td>\n",
       "      <td>22.0</td>\n",
       "      <td>28.0</td>\n",
       "      <td>107.0</td>\n",
       "    </tr>\n",
       "    <tr>\n",
       "      <th>None</th>\n",
       "      <td>14785.0</td>\n",
       "      <td>13.237606</td>\n",
       "      <td>10.859506</td>\n",
       "      <td>1.0</td>\n",
       "      <td>4.0</td>\n",
       "      <td>11.0</td>\n",
       "      <td>20.0</td>\n",
       "      <td>118.0</td>\n",
       "    </tr>\n",
       "  </tbody>\n",
       "</table>\n",
       "</div>"
      ],
      "text/plain": [
       "         count       mean        std  min   25%   50%   75%    max\n",
       "Label                                                             \n",
       "About   1867.0  23.128013   9.419610  4.0  16.0  22.0  28.0  107.0\n",
       "None   14785.0  13.237606  10.859506  1.0   4.0  11.0  20.0  118.0"
      ]
     },
     "execution_count": 519,
     "metadata": {},
     "output_type": "execute_result"
    }
   ],
   "source": [
    "df.groupby(['Label'])['num_of_words'].describe()"
   ]
  },
  {
   "cell_type": "code",
   "execution_count": 520,
   "id": "587e7573",
   "metadata": {},
   "outputs": [
    {
     "data": {
      "text/plain": [
       "<seaborn.axisgrid.FacetGrid at 0x7f8d37ad3ad0>"
      ]
     },
     "execution_count": 520,
     "metadata": {},
     "output_type": "execute_result"
    },
    {
     "data": {
      "image/png": "[encoded data removed]",
      "text/plain": [
       "<Figure size 425.375x360 with 1 Axes>"
      ]
     },
     "metadata": {
      "needs_background": "light"
     },
     "output_type": "display_data"
    }
   ],
   "source": [
    "# Distribution for the 'About' label\n",
    "g = sns.displot(data = df, \n",
    "                 x= 'num_of_words',\n",
    "                 hue='Label',\n",
    "                 kind='kde')\n",
    "g.set(xlim=(0, 60))\n",
    "# sns.displot(data = df, x = df['num_of_words'][df['Label'] == 'None'], label='sdf', ax = ax)"
   ]
  },
  {
   "cell_type": "markdown",
   "id": "e521ceda",
   "metadata": {},
   "source": [
    "#### *We can see a different distribution of labels*"
   ]
  },
  {
   "cell_type": "markdown",
   "id": "c0c0286e",
   "metadata": {},
   "source": [
    "#### *Add the presence of \"we\" / \"our\" in the sentence as a binary feature*"
   ]
  },
  {
   "cell_type": "code",
   "execution_count": 521,
   "id": "4827f570",
   "metadata": {},
   "outputs": [
    {
     "name": "stdout",
     "output_type": "stream",
     "text": [
      "has_we: 2946\n",
      "has_our: 3011\n"
     ]
    }
   ],
   "source": [
    "# Calculate the number of words \"we\" / \"our\" in the text\n",
    "\n",
    "text = df['Text'].str.lower()\n",
    "\n",
    "has_we = text.str.count(\"we \").astype(int)\n",
    "has_we += text.str.count(\"we'\").astype(int)\n",
    "has_we += text.str.count(\" we\").astype(int)\n",
    "print(f\"has_we: {len(has_we[has_we != 0])}\")\n",
    "\n",
    "has_our = text.str.count(\"our \").astype(int)\n",
    "has_our += text.str.count(\"our'\").astype(int)\n",
    "has_our += text.str.count(\" our\").astype(int)\n",
    "print(f\"has_our: {len(has_our[has_our != 0])}\")\n",
    "\n",
    "\n",
    "# has_we = text.str.contains('we', case=False)\n",
    "# has_our = text.str.contains('our', case=False)\n",
    "\n",
    "df['has_we'] = has_we.astype(int)\n",
    "df['has_our'] = has_our.astype(int)"
   ]
  },
  {
   "cell_type": "markdown",
   "id": "124cbb8f",
   "metadata": {},
   "source": [
    "#### *Yes, some cases will count twice, but the mean difference in this way for the label is better*"
   ]
  },
  {
   "cell_type": "code",
   "execution_count": 523,
   "id": "145cbce3",
   "metadata": {},
   "outputs": [
    {
     "data": {
      "text/html": [
       "<div>\n",
       "<style scoped>\n",
       "    .dataframe tbody tr th:only-of-type {\n",
       "        vertical-align: middle;\n",
       "    }\n",
       "\n",
       "    .dataframe tbody tr th {\n",
       "        vertical-align: top;\n",
       "    }\n",
       "\n",
       "    .dataframe thead tr th {\n",
       "        text-align: left;\n",
       "    }\n",
       "\n",
       "    .dataframe thead tr:last-of-type th {\n",
       "        text-align: right;\n",
       "    }\n",
       "</style>\n",
       "<table border=\"1\" class=\"dataframe\">\n",
       "  <thead>\n",
       "    <tr>\n",
       "      <th></th>\n",
       "      <th colspan=\"8\" halign=\"left\">has_we</th>\n",
       "      <th colspan=\"8\" halign=\"left\">has_our</th>\n",
       "    </tr>\n",
       "    <tr>\n",
       "      <th></th>\n",
       "      <th>count</th>\n",
       "      <th>mean</th>\n",
       "      <th>std</th>\n",
       "      <th>min</th>\n",
       "      <th>25%</th>\n",
       "      <th>50%</th>\n",
       "      <th>75%</th>\n",
       "      <th>max</th>\n",
       "      <th>count</th>\n",
       "      <th>mean</th>\n",
       "      <th>std</th>\n",
       "      <th>min</th>\n",
       "      <th>25%</th>\n",
       "      <th>50%</th>\n",
       "      <th>75%</th>\n",
       "      <th>max</th>\n",
       "    </tr>\n",
       "    <tr>\n",
       "      <th>Label</th>\n",
       "      <th></th>\n",
       "      <th></th>\n",
       "      <th></th>\n",
       "      <th></th>\n",
       "      <th></th>\n",
       "      <th></th>\n",
       "      <th></th>\n",
       "      <th></th>\n",
       "      <th></th>\n",
       "      <th></th>\n",
       "      <th></th>\n",
       "      <th></th>\n",
       "      <th></th>\n",
       "      <th></th>\n",
       "      <th></th>\n",
       "      <th></th>\n",
       "    </tr>\n",
       "  </thead>\n",
       "  <tbody>\n",
       "    <tr>\n",
       "      <th>About</th>\n",
       "      <td>1867.0</td>\n",
       "      <td>0.441350</td>\n",
       "      <td>0.781048</td>\n",
       "      <td>0.0</td>\n",
       "      <td>0.0</td>\n",
       "      <td>0.0</td>\n",
       "      <td>1.0</td>\n",
       "      <td>6.0</td>\n",
       "      <td>1867.0</td>\n",
       "      <td>0.521157</td>\n",
       "      <td>1.074381</td>\n",
       "      <td>0.0</td>\n",
       "      <td>0.0</td>\n",
       "      <td>0.0</td>\n",
       "      <td>1.0</td>\n",
       "      <td>10.0</td>\n",
       "    </tr>\n",
       "    <tr>\n",
       "      <th>None</th>\n",
       "      <td>14785.0</td>\n",
       "      <td>0.268583</td>\n",
       "      <td>0.719832</td>\n",
       "      <td>0.0</td>\n",
       "      <td>0.0</td>\n",
       "      <td>0.0</td>\n",
       "      <td>0.0</td>\n",
       "      <td>10.0</td>\n",
       "      <td>14785.0</td>\n",
       "      <td>0.335610</td>\n",
       "      <td>0.880998</td>\n",
       "      <td>0.0</td>\n",
       "      <td>0.0</td>\n",
       "      <td>0.0</td>\n",
       "      <td>0.0</td>\n",
       "      <td>14.0</td>\n",
       "    </tr>\n",
       "  </tbody>\n",
       "</table>\n",
       "</div>"
      ],
      "text/plain": [
       "        has_we                                                has_our  \\\n",
       "         count      mean       std  min  25%  50%  75%   max    count   \n",
       "Label                                                                   \n",
       "About   1867.0  0.441350  0.781048  0.0  0.0  0.0  1.0   6.0   1867.0   \n",
       "None   14785.0  0.268583  0.719832  0.0  0.0  0.0  0.0  10.0  14785.0   \n",
       "\n",
       "                                                     \n",
       "           mean       std  min  25%  50%  75%   max  \n",
       "Label                                                \n",
       "About  0.521157  1.074381  0.0  0.0  0.0  1.0  10.0  \n",
       "None   0.335610  0.880998  0.0  0.0  0.0  0.0  14.0  "
      ]
     },
     "execution_count": 523,
     "metadata": {},
     "output_type": "execute_result"
    }
   ],
   "source": [
    "df.groupby(['Label'])['has_we', 'has_our'].describe()"
   ]
  },
  {
   "cell_type": "code",
   "execution_count": 524,
   "id": "63ff8a0b",
   "metadata": {},
   "outputs": [
    {
     "data": {
      "text/html": [
       "<div>\n",
       "<style scoped>\n",
       "    .dataframe tbody tr th:only-of-type {\n",
       "        vertical-align: middle;\n",
       "    }\n",
       "\n",
       "    .dataframe tbody tr th {\n",
       "        vertical-align: top;\n",
       "    }\n",
       "\n",
       "    .dataframe thead th {\n",
       "        text-align: right;\n",
       "    }\n",
       "</style>\n",
       "<table border=\"1\" class=\"dataframe\">\n",
       "  <thead>\n",
       "    <tr style=\"text-align: right;\">\n",
       "      <th></th>\n",
       "      <th>Text</th>\n",
       "      <th>Label</th>\n",
       "      <th>num_of_words</th>\n",
       "      <th>has_we</th>\n",
       "      <th>has_our</th>\n",
       "    </tr>\n",
       "  </thead>\n",
       "  <tbody>\n",
       "    <tr>\n",
       "      <th>0</th>\n",
       "      <td>Funding Circle was created with a big idea:</td>\n",
       "      <td>None</td>\n",
       "      <td>8</td>\n",
       "      <td>0</td>\n",
       "      <td>0</td>\n",
       "    </tr>\n",
       "    <tr>\n",
       "      <th>1</th>\n",
       "      <td>To revolutionize the outdated banking system a...</td>\n",
       "      <td>About</td>\n",
       "      <td>13</td>\n",
       "      <td>0</td>\n",
       "      <td>0</td>\n",
       "    </tr>\n",
       "    <tr>\n",
       "      <th>2</th>\n",
       "      <td>Thousands of loans later, we've helped busines...</td>\n",
       "      <td>About</td>\n",
       "      <td>14</td>\n",
       "      <td>2</td>\n",
       "      <td>0</td>\n",
       "    </tr>\n",
       "    <tr>\n",
       "      <th>3</th>\n",
       "      <td>We've taken this progress global.</td>\n",
       "      <td>About</td>\n",
       "      <td>5</td>\n",
       "      <td>1</td>\n",
       "      <td>0</td>\n",
       "    </tr>\n",
       "    <tr>\n",
       "      <th>4</th>\n",
       "      <td>Funding Circle is the world's leading marketpl...</td>\n",
       "      <td>About</td>\n",
       "      <td>30</td>\n",
       "      <td>0</td>\n",
       "      <td>0</td>\n",
       "    </tr>\n",
       "  </tbody>\n",
       "</table>\n",
       "</div>"
      ],
      "text/plain": [
       "                                                Text  Label  num_of_words  \\\n",
       "0        Funding Circle was created with a big idea:   None             8   \n",
       "1  To revolutionize the outdated banking system a...  About            13   \n",
       "2  Thousands of loans later, we've helped busines...  About            14   \n",
       "3                  We've taken this progress global.  About             5   \n",
       "4  Funding Circle is the world's leading marketpl...  About            30   \n",
       "\n",
       "   has_we  has_our  \n",
       "0       0        0  \n",
       "1       0        0  \n",
       "2       2        0  \n",
       "3       1        0  \n",
       "4       0        0  "
      ]
     },
     "execution_count": 524,
     "metadata": {},
     "output_type": "execute_result"
    }
   ],
   "source": [
    "df.head()"
   ]
  },
  {
   "cell_type": "code",
   "execution_count": 525,
   "id": "e2d0ca57",
   "metadata": {},
   "outputs": [],
   "source": [
    "# Prepare X\n",
    "X = df.drop(['Label'], axis = 1)\n",
    "# Prepare labels\n",
    "y = df['Label'].map({'None': 0, 'About': 1})"
   ]
  },
  {
   "cell_type": "code",
   "execution_count": 526,
   "id": "467ee74e",
   "metadata": {},
   "outputs": [
    {
     "data": {
      "text/html": [
       "<div>\n",
       "<style scoped>\n",
       "    .dataframe tbody tr th:only-of-type {\n",
       "        vertical-align: middle;\n",
       "    }\n",
       "\n",
       "    .dataframe tbody tr th {\n",
       "        vertical-align: top;\n",
       "    }\n",
       "\n",
       "    .dataframe thead th {\n",
       "        text-align: right;\n",
       "    }\n",
       "</style>\n",
       "<table border=\"1\" class=\"dataframe\">\n",
       "  <thead>\n",
       "    <tr style=\"text-align: right;\">\n",
       "      <th></th>\n",
       "      <th>Text</th>\n",
       "      <th>Label</th>\n",
       "      <th>num_of_words</th>\n",
       "      <th>has_we</th>\n",
       "      <th>has_our</th>\n",
       "    </tr>\n",
       "  </thead>\n",
       "  <tbody>\n",
       "    <tr>\n",
       "      <th>0</th>\n",
       "      <td>Funding Circle was created with a big idea:</td>\n",
       "      <td>None</td>\n",
       "      <td>8</td>\n",
       "      <td>0</td>\n",
       "      <td>0</td>\n",
       "    </tr>\n",
       "    <tr>\n",
       "      <th>1</th>\n",
       "      <td>To revolutionize the outdated banking system a...</td>\n",
       "      <td>About</td>\n",
       "      <td>13</td>\n",
       "      <td>0</td>\n",
       "      <td>0</td>\n",
       "    </tr>\n",
       "    <tr>\n",
       "      <th>2</th>\n",
       "      <td>Thousands of loans later, we've helped busines...</td>\n",
       "      <td>About</td>\n",
       "      <td>14</td>\n",
       "      <td>2</td>\n",
       "      <td>0</td>\n",
       "    </tr>\n",
       "    <tr>\n",
       "      <th>3</th>\n",
       "      <td>We've taken this progress global.</td>\n",
       "      <td>About</td>\n",
       "      <td>5</td>\n",
       "      <td>1</td>\n",
       "      <td>0</td>\n",
       "    </tr>\n",
       "    <tr>\n",
       "      <th>4</th>\n",
       "      <td>Funding Circle is the world's leading marketpl...</td>\n",
       "      <td>About</td>\n",
       "      <td>30</td>\n",
       "      <td>0</td>\n",
       "      <td>0</td>\n",
       "    </tr>\n",
       "    <tr>\n",
       "      <th>...</th>\n",
       "      <td>...</td>\n",
       "      <td>...</td>\n",
       "      <td>...</td>\n",
       "      <td>...</td>\n",
       "      <td>...</td>\n",
       "    </tr>\n",
       "    <tr>\n",
       "      <th>16716</th>\n",
       "      <td>Dr. Holtz has held research management positio...</td>\n",
       "      <td>None</td>\n",
       "      <td>18</td>\n",
       "      <td>0</td>\n",
       "      <td>0</td>\n",
       "    </tr>\n",
       "    <tr>\n",
       "      <th>16717</th>\n",
       "      <td>He received his Ph.D. at Pennsylvania State Un...</td>\n",
       "      <td>None</td>\n",
       "      <td>19</td>\n",
       "      <td>0</td>\n",
       "      <td>0</td>\n",
       "    </tr>\n",
       "    <tr>\n",
       "      <th>16718</th>\n",
       "      <td>Dr. Holtz has been awarded 22 US patents and h...</td>\n",
       "      <td>None</td>\n",
       "      <td>15</td>\n",
       "      <td>0</td>\n",
       "      <td>0</td>\n",
       "    </tr>\n",
       "    <tr>\n",
       "      <th>16719</th>\n",
       "      <td>Dr. Holtz was awarded the Pennsylvania State U...</td>\n",
       "      <td>None</td>\n",
       "      <td>13</td>\n",
       "      <td>0</td>\n",
       "      <td>0</td>\n",
       "    </tr>\n",
       "    <tr>\n",
       "      <th>16720</th>\n",
       "      <td>Copyright © 2017 iBio CMO All rights reserved.</td>\n",
       "      <td>None</td>\n",
       "      <td>8</td>\n",
       "      <td>0</td>\n",
       "      <td>0</td>\n",
       "    </tr>\n",
       "  </tbody>\n",
       "</table>\n",
       "<p>16652 rows × 5 columns</p>\n",
       "</div>"
      ],
      "text/plain": [
       "                                                    Text  Label  num_of_words  \\\n",
       "0            Funding Circle was created with a big idea:   None             8   \n",
       "1      To revolutionize the outdated banking system a...  About            13   \n",
       "2      Thousands of loans later, we've helped busines...  About            14   \n",
       "3                      We've taken this progress global.  About             5   \n",
       "4      Funding Circle is the world's leading marketpl...  About            30   \n",
       "...                                                  ...    ...           ...   \n",
       "16716  Dr. Holtz has held research management positio...   None            18   \n",
       "16717  He received his Ph.D. at Pennsylvania State Un...   None            19   \n",
       "16718  Dr. Holtz has been awarded 22 US patents and h...   None            15   \n",
       "16719  Dr. Holtz was awarded the Pennsylvania State U...   None            13   \n",
       "16720     Copyright © 2017 iBio CMO All rights reserved.   None             8   \n",
       "\n",
       "       has_we  has_our  \n",
       "0           0        0  \n",
       "1           0        0  \n",
       "2           2        0  \n",
       "3           1        0  \n",
       "4           0        0  \n",
       "...       ...      ...  \n",
       "16716       0        0  \n",
       "16717       0        0  \n",
       "16718       0        0  \n",
       "16719       0        0  \n",
       "16720       0        0  \n",
       "\n",
       "[16652 rows x 5 columns]"
      ]
     },
     "execution_count": 526,
     "metadata": {},
     "output_type": "execute_result"
    }
   ],
   "source": [
    "df"
   ]
  },
  {
   "cell_type": "code",
   "execution_count": 828,
   "id": "6950f15d",
   "metadata": {},
   "outputs": [
    {
     "data": {
      "text/plain": [
       "0    10367\n",
       "1     1289\n",
       "Name: Label, dtype: int64"
      ]
     },
     "execution_count": 828,
     "metadata": {},
     "output_type": "execute_result"
    }
   ],
   "source": [
    "# Split data\n",
    "X_train, X_val, y_train, y_val = train_test_split(X, \n",
    "                                                  y, \n",
    "                                                  train_size = 0.7, \n",
    "                                                  shuffle=True,\n",
    "                                                  random_state=RANDOM_STATE)\n",
    "# Split X_val, y_val into validation and test data\n",
    "X_val, X_test, y_val, y_test = train_test_split(X_val, \n",
    "                                                y_val, \n",
    "                                                train_size = 0.7, \n",
    "                                                shuffle=True,\n",
    "                                                random_state=RANDOM_STATE)\n",
    "\n",
    "y_train.value_counts()"
   ]
  },
  {
   "cell_type": "code",
   "execution_count": 837,
   "id": "32f06bf1",
   "metadata": {},
   "outputs": [],
   "source": [
    "# Save test data\n",
    "with open('data/text_test.pkl', 'wb') as file:\n",
    "    pickle.dump(X_test['Text'].values.tolist(), file)\n",
    "with open('data/labels_test.pkl', 'wb') as file:\n",
    "    pickle.dump(y_test, file)"
   ]
  },
  {
   "cell_type": "code",
   "execution_count": 672,
   "id": "2a15d393",
   "metadata": {},
   "outputs": [
    {
     "data": {
      "text/plain": [
       "1    10367\n",
       "0    10367\n",
       "Name: Label, dtype: int64"
      ]
     },
     "execution_count": 672,
     "metadata": {},
     "output_type": "execute_result"
    }
   ],
   "source": [
    "# Create OverSampler and resample X_train, y_train train\n",
    "oversampler = RandomOverSampler(sampling_strategy='minority')\n",
    "X_train, y_train = oversampler.fit_resample(pd.DataFrame(X_train), y = y_train)\n",
    "# X_train = [i[0] for i in X_train.values.tolist()]\n",
    "y_train.value_counts()"
   ]
  },
  {
   "cell_type": "code",
   "execution_count": 673,
   "id": "fa9ae648",
   "metadata": {},
   "outputs": [],
   "source": [
    "X_train_text = X_train['Text']\n",
    "X_train.drop('Text', inplace=True, axis=1)\n",
    "X_val_text = X_val['Text']\n",
    "X_val.drop('Text', inplace=True, axis=1)\n",
    "X_test_text = X_test['Text']\n",
    "X_test.drop('Text', inplace=True, axis=1)"
   ]
  },
  {
   "cell_type": "markdown",
   "id": "d11824b1",
   "metadata": {},
   "source": [
    "# LinearRegression"
   ]
  },
  {
   "cell_type": "code",
   "execution_count": 74,
   "id": "e8bbc4ee",
   "metadata": {},
   "outputs": [
    {
     "name": "stdout",
     "output_type": "stream",
     "text": [
      "CPU times: user 2.83 ms, sys: 1.88 ms, total: 4.71 ms\n",
      "Wall time: 3.09 ms\n"
     ]
    },
    {
     "data": {
      "text/plain": [
       "LinearRegression()"
      ]
     },
     "execution_count": 74,
     "metadata": {},
     "output_type": "execute_result"
    }
   ],
   "source": [
    "%%time\n",
    "# Create and fit LinearRegression model\n",
    "lr_model = LinearRegression()\n",
    "lr_model.fit(X_train.values, y_train.values)"
   ]
  },
  {
   "cell_type": "code",
   "execution_count": 442,
   "id": "6c2b23d5",
   "metadata": {},
   "outputs": [
    {
     "name": "stdout",
     "output_type": "stream",
     "text": [
      "Accuracy score: 0.696\n",
      "Precision score: 0.228\n",
      "Recall score: 0.681\n",
      "F-score: 0.342\n",
      "\n",
      "Max F1-Score: 0.345 (threshold: 0.475)\n",
      "\n"
     ]
    },
    {
     "data": {
      "image/png": "[encoded data removed]",
      "text/plain": [
       "<Figure size 432x288 with 1 Axes>"
      ]
     },
     "metadata": {
      "needs_background": "light"
     },
     "output_type": "display_data"
    }
   ],
   "source": [
    "# Linear Regression estimate\n",
    "result_functions.print_scores(y_val, lr_model.predict(X_val), plot_fscore_threshold=True)"
   ]
  },
  {
   "cell_type": "code",
   "execution_count": 453,
   "id": "1fda270b",
   "metadata": {},
   "outputs": [
    {
     "data": {
      "text/plain": [
       "RandomForestClassifier()"
      ]
     },
     "execution_count": 453,
     "metadata": {},
     "output_type": "execute_result"
    }
   ],
   "source": [
    "RFC = RandomForestClassifier()\n",
    "RFC.fit(X_train, y_train)"
   ]
  },
  {
   "cell_type": "code",
   "execution_count": 456,
   "id": "4f62ef9f",
   "metadata": {},
   "outputs": [],
   "source": [
    "y_pred_rfc = RFC.predict(X_val)"
   ]
  },
  {
   "cell_type": "code",
   "execution_count": 457,
   "id": "258ebf64",
   "metadata": {},
   "outputs": [
    {
     "name": "stdout",
     "output_type": "stream",
     "text": [
      "Accuracy score: 0.627\n",
      "Precision score: 0.207\n",
      "Recall score: 0.783\n",
      "F-score: 0.327\n",
      "\n",
      "Max F1-Score: 0.327 (threshold: 0.0)\n",
      "\n"
     ]
    },
    {
     "data": {
      "image/png": "[encoded data removed]",
      "text/plain": [
       "<Figure size 432x288 with 1 Axes>"
      ]
     },
     "metadata": {
      "needs_background": "light"
     },
     "output_type": "display_data"
    }
   ],
   "source": [
    "# Linear Regression estimate\n",
    "result_functions.print_scores(y_val, y_pred_rfc, plot_fscore_threshold=True)"
   ]
  },
  {
   "cell_type": "markdown",
   "id": "87cd2e6a",
   "metadata": {},
   "source": [
    "# Embedding layer"
   ]
  },
  {
   "cell_type": "code",
   "execution_count": 799,
   "id": "b8af75af",
   "metadata": {},
   "outputs": [],
   "source": [
    "class Preprocessing():\n",
    "    \n",
    "    def __init__(self, tokenizer):\n",
    "        self.tokenizer = tokenizer\n",
    "        pass\n",
    "    \n",
    "    def transform(self, X):\n",
    "        if type(X) == str:\n",
    "            X = [X]\n",
    "        \n",
    "        X = tokenizer.texts_to_sequences(X)\n",
    "        X = keras.preprocessing.sequence.pad_sequences(X, \n",
    "                                                       padding='post',\n",
    "                                                       maxlen=50)\n",
    "        \n",
    "        return X"
   ]
  },
  {
   "cell_type": "code",
   "execution_count": 800,
   "id": "e6fb4875",
   "metadata": {},
   "outputs": [],
   "source": [
    "with open('models/preprocessing.pkl', 'wb') as file:\n",
    "    pickle.dump(Preprocessing, file)"
   ]
  },
  {
   "cell_type": "code",
   "execution_count": 674,
   "id": "66e34f89",
   "metadata": {},
   "outputs": [
    {
     "name": "stdout",
     "output_type": "stream",
     "text": [
      "Vocabulary size: 15805\n",
      "X_train shape: (20734, 3)\n",
      "X_val shape: (3497, 3)\n"
     ]
    }
   ],
   "source": [
    "maxlen = 50\n",
    "\n",
    "# Create a tokenizer and encode words for sequences of numbers\n",
    "keras_tokenizer = keras.preprocessing.text.Tokenizer()\n",
    "keras_tokenizer.fit_on_texts(X_train_text.values)\n",
    "\n",
    "# Encode texts to sequences of numbers\n",
    "X_train_text_v = keras_tokenizer.texts_to_sequences(X_train_text)\n",
    "X_train_text_v = keras.preprocessing.sequence.pad_sequences(X_train_text_v, \n",
    "                                                         padding='post', \n",
    "                                                         maxlen=maxlen)\n",
    "X_val_text_v = keras_tokenizer.texts_to_sequences(X_val_text)\n",
    "X_val_text_v = keras.preprocessing.sequence.pad_sequences(X_val_text_v, \n",
    "                                                       padding='post',\n",
    "                                                       maxlen=maxlen)\n",
    "\n",
    "\n",
    "vocab_size = len(keras_tokenizer.word_index) + 1 # Vocabulary size and reserved index '0'\n",
    "\n",
    "print(f\"Vocabulary size: {vocab_size}\")\n",
    "print(f\"X_train shape: {X_train.shape}\")\n",
    "print(f\"X_val shape: {X_val.shape}\")"
   ]
  },
  {
   "cell_type": "code",
   "execution_count": 788,
   "id": "a527dfb9",
   "metadata": {},
   "outputs": [],
   "source": [
    "# Save keras_tokenizer\n",
    "with open('models/keras_tokenizer.pkl', 'wb') as file:\n",
    "    pickle.dump(keras_tokenizer, file)"
   ]
  },
  {
   "cell_type": "code",
   "execution_count": 700,
   "id": "654573a1",
   "metadata": {},
   "outputs": [
    {
     "name": "stdout",
     "output_type": "stream",
     "text": [
      "Model: \"sequential_91\"\n",
      "_________________________________________________________________\n",
      "Layer (type)                 Output Shape              Param #   \n",
      "=================================================================\n",
      "embedding_88 (Embedding)     (None, 50, 85)            1343425   \n",
      "_________________________________________________________________\n",
      "dropout_73 (Dropout)         (None, 50, 85)            0         \n",
      "_________________________________________________________________\n",
      "flatten_80 (Flatten)         (None, 4250)              0         \n",
      "_________________________________________________________________\n",
      "dense_78 (Dense)             (None, 1)                 4251      \n",
      "=================================================================\n",
      "Total params: 1,347,676\n",
      "Trainable params: 1,347,676\n",
      "Non-trainable params: 0\n",
      "_________________________________________________________________\n"
     ]
    }
   ],
   "source": [
    "# Build a NN with a embedding layer\n",
    "emb_model = keras.models.Sequential()\n",
    "emb_model.add(keras.layers.Embedding(input_dim=vocab_size, \n",
    "                                     output_dim=85,\n",
    "                                     input_length=maxlen))\n",
    "emb_model.add(keras.layers.Dropout(0.6))\n",
    "emb_model.add(keras.layers.Flatten())\n",
    "emb_model.add(keras.layers.Dense(1, activation='sigmoid'))\n",
    "emb_model.compile(optimizer='rmsprop',\n",
    "                    loss='binary_crossentropy',\n",
    "                    metrics=['accuracy', 'Precision', 'Recall'])\n",
    "emb_model.summary()"
   ]
  },
  {
   "cell_type": "code",
   "execution_count": 701,
   "id": "007b488b",
   "metadata": {
    "scrolled": true
   },
   "outputs": [
    {
     "name": "stdout",
     "output_type": "stream",
     "text": [
      "Epoch 1/2\n",
      "324/324 [==============================] - 3s 5ms/step - loss: 0.5172 - accuracy: 0.7301 - precision: 0.7103 - recall: 0.7662 - val_loss: 0.3264 - val_accuracy: 0.8453 - val_precision: 0.4117 - val_recall: 0.7827\n",
      "Epoch 2/2\n",
      "324/324 [==============================] - 1s 4ms/step - loss: 0.2676 - accuracy: 0.8975 - precision: 0.8767 - recall: 0.9268 - val_loss: 0.2559 - val_accuracy: 0.8890 - val_precision: 0.5152 - val_recall: 0.7111\n"
     ]
    }
   ],
   "source": [
    "history_nn_emb = emb_model.fit(X_train_text_v, \n",
    "                                y_train,\n",
    "                                batch_size=64,\n",
    "                                epochs=2,\n",
    "                                validation_data=(X_val_text_v, y_val))"
   ]
  },
  {
   "cell_type": "code",
   "execution_count": 702,
   "id": "164d5aa2",
   "metadata": {},
   "outputs": [
    {
     "name": "stdout",
     "output_type": "stream",
     "text": [
      "loss:             min-0.244(2 epoch), \t max-0.443(1 epoch)\n",
      "accuracy:         min-0.784(1 epoch), \t max-0.906(2 epoch)\n",
      "precision:        min-0.747(1 epoch), \t max-0.886(2 epoch)\n",
      "recall:           min-0.861(1 epoch), \t max-0.932(2 epoch)\n",
      "val_loss:         min-0.256(2 epoch), \t max-0.326(1 epoch)\n",
      "val_accuracy:     min-0.845(1 epoch), \t max-0.889(2 epoch)\n",
      "val_precision:    min-0.412(1 epoch), \t max-0.515(2 epoch)\n",
      "val_recall:       min-0.711(2 epoch), \t max-0.783(1 epoch)\n",
      "val_f1_score:     min-0.54(1 epoch), \t max-0.598(2 epoch)\n"
     ]
    },
    {
     "data": {
      "image/png": "[encoded data removed]",
      "text/plain": [
       "<Figure size 1080x720 with 4 Axes>"
      ]
     },
     "metadata": {
      "needs_background": "light"
     },
     "output_type": "display_data"
    }
   ],
   "source": [
    "result_functions.plot_history_nn(history_nn_emb.history, \n",
    "                                combined_keys=[['loss', 'val_loss'], \n",
    "                                               ['accuracy', 'val_accuracy'],\n",
    "                                               ['val_precision', 'val_recall', 'val_f1_score']],\n",
    "                                calculate_f1_score=True)"
   ]
  },
  {
   "cell_type": "code",
   "execution_count": 703,
   "id": "808bf773",
   "metadata": {},
   "outputs": [
    {
     "name": "stdout",
     "output_type": "stream",
     "text": [
      "Accuracy score: 0.889\n",
      "Precision score: 0.515\n",
      "Recall score: 0.711\n",
      "F-score: 0.598\n",
      "\n",
      "Max F1-Score: 0.631 (threshold: 0.626)\n",
      "\n"
     ]
    },
    {
     "data": {
      "image/png": "[encoded data removed]",
      "text/plain": [
       "<Figure size 432x288 with 1 Axes>"
      ]
     },
     "metadata": {
      "needs_background": "light"
     },
     "output_type": "display_data"
    }
   ],
   "source": [
    "\n",
    "result_functions.print_scores(y_val, emb_model.predict(X_val_text_v), plot_fscore_threshold=True)"
   ]
  },
  {
   "cell_type": "code",
   "execution_count": 782,
   "id": "bb07ca74",
   "metadata": {},
   "outputs": [
    {
     "name": "stdout",
     "output_type": "stream",
     "text": [
      "INFO:tensorflow:Assets written to: models/emb_model/assets\n"
     ]
    }
   ],
   "source": [
    "emb_model.save('models/emb_model')"
   ]
  },
  {
   "cell_type": "markdown",
   "id": "be48bdbe",
   "metadata": {},
   "source": [
    "### Сombining 2 models"
   ]
  },
  {
   "cell_type": "code",
   "execution_count": 675,
   "id": "1d12904b",
   "metadata": {},
   "outputs": [
    {
     "name": "stdout",
     "output_type": "stream",
     "text": [
      "Accuracy score: 0.837\n",
      "Precision score: 0.307\n",
      "Recall score: 0.323\n",
      "F-score: 0.315\n",
      "\n",
      "Max F1-Score: 0.339 (threshold: 0.414)\n",
      "\n"
     ]
    },
    {
     "data": {
      "image/png": "[encoded data removed]",
      "text/plain": [
       "<Figure size 432x288 with 1 Axes>"
      ]
     },
     "metadata": {
      "needs_background": "light"
     },
     "output_type": "display_data"
    }
   ],
   "source": [
    "y_pred1 = lr_model.predict(X_val)\n",
    "y_pred2 = emb_model.predict(X_val_text_v)\n",
    "y_pred2 = np.where(np.array(y_pred2) > 0.606, 1, 0)\n",
    "\n",
    "y_pred = [y_pred1[i] * y_pred2[i] for i in range(len(y_pred1))]\n",
    "\n",
    "result_functions.print_scores(y_val, y_pred, plot_fscore_threshold=True)"
   ]
  },
  {
   "cell_type": "markdown",
   "id": "61a0f137",
   "metadata": {},
   "source": [
    "#### *The results for Embedding layer better than for 2 models together*"
   ]
  },
  {
   "cell_type": "markdown",
   "id": "e07671ac",
   "metadata": {},
   "source": [
    "# Ensemble nethods"
   ]
  },
  {
   "cell_type": "code",
   "execution_count": 632,
   "id": "10e22c38",
   "metadata": {},
   "outputs": [
    {
     "name": "stdout",
     "output_type": "stream",
     "text": [
      "Model: \"sequential_85\"\n",
      "_________________________________________________________________\n",
      "Layer (type)                 Output Shape              Param #   \n",
      "=================================================================\n",
      "embedding_82 (Embedding)     (None, 50, 85)            1343425   \n",
      "_________________________________________________________________\n",
      "flatten_74 (Flatten)         (None, 4250)              0         \n",
      "=================================================================\n",
      "Total params: 1,343,425\n",
      "Trainable params: 1,343,425\n",
      "Non-trainable params: 0\n",
      "_________________________________________________________________\n"
     ]
    }
   ],
   "source": [
    "# Create a embedding layer to vectoirzinf the text\n",
    "emb_model_to_vect = keras.models.Sequential()\n",
    "emb_model_to_vect.add(keras.layers.Embedding(input_dim=vocab_size, \n",
    "                                     output_dim=85,\n",
    "                                     input_length=maxlen))\n",
    "emb_model_to_vect.add(keras.layers.Flatten())\n",
    "emb_model_to_vect.compile(optimizer='rmsprop',\n",
    "                            loss='binary_crossentropy',\n",
    "                            metrics=['accuracy', 'Precision', 'Recall'])\n",
    "emb_model_to_vect.summary()"
   ]
  },
  {
   "cell_type": "code",
   "execution_count": 657,
   "id": "258dbbac",
   "metadata": {},
   "outputs": [],
   "source": [
    "# Take the embedding layer from the previous NN\n",
    "emb_layer = emb_model_to_vect.get_layer('embedding_82')\n",
    "emb_layer.set_weights(emb_model.get_layer('embedding_81').get_weights())\n",
    "emb_model_to_vect.predict(X_val_text).shape"
   ]
  },
  {
   "cell_type": "markdown",
   "id": "20bb6158",
   "metadata": {},
   "source": [
    "### StackingClassifier"
   ]
  },
  {
   "cell_type": "code",
   "execution_count": 666,
   "id": "4f15bc06",
   "metadata": {},
   "outputs": [],
   "source": [
    "# Create StackingClassifier\n",
    "estimators = [\n",
    "            ('rf', RandomForestClassifier(n_estimators=10, random_state=42)),\n",
    "            ('svr', make_pipeline(StandardScaler(),\n",
    "                                    LinearSVC(random_state=42)))]\n",
    "clf = StackingClassifier(estimators=estimators, final_estimator=LogisticRegression())"
   ]
  },
  {
   "cell_type": "code",
   "execution_count": 667,
   "id": "94717e26",
   "metadata": {},
   "outputs": [
    {
     "data": {
      "text/plain": [
       "StackingClassifier(estimators=[('rf',\n",
       "                                RandomForestClassifier(n_estimators=10,\n",
       "                                                       random_state=42)),\n",
       "                               ('svr',\n",
       "                                Pipeline(steps=[('standardscaler',\n",
       "                                                 StandardScaler()),\n",
       "                                                ('linearsvc',\n",
       "                                                 LinearSVC(random_state=42))]))],\n",
       "                   final_estimator=LogisticRegression())"
      ]
     },
     "execution_count": 667,
     "metadata": {},
     "output_type": "execute_result"
    }
   ],
   "source": [
    "clf.fit(emb_model_to_vect.predict(X_train_text_v), y_train)"
   ]
  },
  {
   "cell_type": "code",
   "execution_count": 670,
   "id": "d2936485",
   "metadata": {},
   "outputs": [
    {
     "name": "stdout",
     "output_type": "stream",
     "text": [
      "Accuracy score: 0.895\n",
      "Precision score: 0.791\n",
      "Recall score: 0.131\n",
      "F-score: 0.225\n",
      "\n",
      "Max F1-Score: 0.225 (threshold: 0.0)\n",
      "\n"
     ]
    },
    {
     "data": {
      "image/png": "[encoded data removed]",
      "text/plain": [
       "<Figure size 432x288 with 1 Axes>"
      ]
     },
     "metadata": {
      "needs_background": "light"
     },
     "output_type": "display_data"
    }
   ],
   "source": [
    "result_functions.print_scores(y_val, clf.predict(emb_model_to_vect.predict(X_val_text_v)), plot_fscore_threshold=True)"
   ]
  },
  {
   "cell_type": "markdown",
   "id": "319c8fbf",
   "metadata": {},
   "source": [
    "### XGBoost"
   ]
  },
  {
   "cell_type": "code",
   "execution_count": 770,
   "id": "e765f086",
   "metadata": {},
   "outputs": [
    {
     "name": "stdout",
     "output_type": "stream",
     "text": [
      "[00:53:45] WARNING: ../src/learner.cc:1095: Starting in XGBoost 1.3.0, the default evaluation metric used with the objective 'binary:logistic' was changed from 'error' to 'logloss'. Explicitly set eval_metric if you'd like to restore the old behavior.\n",
      "CPU times: user 9.61 s, sys: 3.22 s, total: 12.8 s\n",
      "Wall time: 1.84 s\n"
     ]
    },
    {
     "data": {
      "text/plain": [
       "XGBClassifier(base_score=0.5, booster='gbtree', colsample_bylevel=1,\n",
       "              colsample_bynode=1, colsample_bytree=1, eta=1, gamma=0, gpu_id=-1,\n",
       "              importance_type='gain', interaction_constraints='',\n",
       "              learning_rate=1, max_delta_step=0, max_depth=4,\n",
       "              min_child_weight=1, missing=nan, monotone_constraints='()',\n",
       "              n_estimators=100, n_jobs=8, num_parallel_tree=1, random_state=0,\n",
       "              reg_alpha=0, reg_lambda=1, scale_pos_weight=1, subsample=1,\n",
       "              tree_method='exact', validate_parameters=1, verbosity=None)"
      ]
     },
     "execution_count": 770,
     "metadata": {},
     "output_type": "execute_result"
    }
   ],
   "source": [
    "%%time\n",
    "# Create XGBoost\n",
    "xgb_cl = XGBClassifier(max_depth=4, eta=1)\n",
    "xgb_cl.fit(X_train_count_vect, y_train)"
   ]
  },
  {
   "cell_type": "code",
   "execution_count": 771,
   "id": "f263aa5c",
   "metadata": {},
   "outputs": [
    {
     "name": "stdout",
     "output_type": "stream",
     "text": [
      "Accuracy score: 0.87\n",
      "Precision score: 0.456\n",
      "Recall score: 0.635\n",
      "F-score: 0.53\n",
      "\n",
      "Max F1-Score: 0.53 (threshold: 0.0)\n",
      "\n"
     ]
    },
    {
     "data": {
      "image/png": "[encoded data removed]",
      "text/plain": [
       "<Figure size 432x288 with 1 Axes>"
      ]
     },
     "metadata": {
      "needs_background": "light"
     },
     "output_type": "display_data"
    }
   ],
   "source": [
    "result_functions.print_scores(y_val, \n",
    "                              xgb_cl.predict(X_val_count_vect), \n",
    "                              plot_fscore_threshold=True)"
   ]
  },
  {
   "cell_type": "markdown",
   "id": "7bf32006",
   "metadata": {},
   "source": [
    "#### *The best result remains for a neural network with an embedding layer*"
   ]
  }
 ],
 "metadata": {
  "kernelspec": {
   "display_name": "Python 3",
   "language": "python",
   "name": "python3"
  },
  "language_info": {
   "codemirror_mode": {
    "name": "ipython",
    "version": 3
   },
   "file_extension": ".py",
   "mimetype": "text/x-python",
   "name": "python",
   "nbconvert_exporter": "python",
   "pygments_lexer": "ipython3",
   "version": "3.7.10"
  }
 },
 "nbformat": 4,
 "nbformat_minor": 5
}
